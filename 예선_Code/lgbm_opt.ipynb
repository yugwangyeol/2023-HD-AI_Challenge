{
 "cells": [
  {
   "cell_type": "markdown",
   "id": "d8a0d56a-0c1d-4f62-b9a9-ebfc9f34dd02",
   "metadata": {},
   "source": [
    "## Import & Data Load"
   ]
  },
  {
   "cell_type": "code",
   "execution_count": 1,
   "id": "92b0de75-94e3-4679-8972-63ccb78ace50",
   "metadata": {},
   "outputs": [
    {
     "name": "stderr",
     "output_type": "stream",
     "text": [
      "C:\\Users\\pc\\anaconda3\\envs\\HD\\lib\\site-packages\\tqdm\\auto.py:21: TqdmWarning: IProgress not found. Please update jupyter and ipywidgets. See https://ipywidgets.readthedocs.io/en/stable/user_install.html\n",
      "  from .autonotebook import tqdm as notebook_tqdm\n"
     ]
    }
   ],
   "source": [
    "# Optuna Libraries\n",
    "import optuna\n",
    "from optuna import Trial\n",
    "from optuna.samplers import TPESampler\n",
    "import pandas as pd\n",
    "from tqdm import tqdm\n",
    "import numpy as np\n",
    "\n",
    "# LGBM Regressor\n",
    "from lightgbm import LGBMRegressor\n",
    "\n",
    "# train_test_split\n",
    "from sklearn.model_selection import train_test_split\n",
    "from sklearn.model_selection import KFold\n",
    "\n",
    "# Evaluation Score\n",
    "from sklearn.metrics import mean_absolute_error"
   ]
  },
  {
   "cell_type": "code",
   "execution_count": 2,
   "id": "0798d09e-29fa-4387-86ff-b3dbc422b532",
   "metadata": {},
   "outputs": [],
   "source": [
    "train = pd.read_csv('../new_open/train_merge_new_fillna.csv')#.drop(columns=['SAMPLE_ID'])\n",
    "test = pd.read_csv('../new_open/test_merge_new_fillna.csv')#.drop(columns=['SAMPLE_ID'])"
   ]
  },
  {
   "cell_type": "code",
   "execution_count": 3,
   "id": "1408a423-9252-4ae4-885d-f9f200602224",
   "metadata": {},
   "outputs": [
    {
     "data": {
      "text/plain": [
       "Index(['ARI_CO', 'ARI_PO', 'SHIP_TYPE_CATEGORY', 'DIST', 'ID', 'BREADTH',\n",
       "       'BUILT', 'DEADWEIGHT', 'DEPTH', 'DRAUGHT', 'GT', 'LENGTH',\n",
       "       'SHIPMANAGER', 'FLAG', 'U_WIND', 'V_WIND', 'AIR_TEMPERATURE', 'BN',\n",
       "       'ATA_LT', 'PORT_SIZE', 'year', 'month', 'day', 'hour', 'minute',\n",
       "       'weekday', 'COS_ATA_LT', 'SIN_ATA_LT', '종가', 'rounded_hour',\n",
       "       'month_sin', 'month_cos', 'day_sin', 'day_cos', 'weekday_sin',\n",
       "       'weekday_cos', 'rounded_hour_sin', 'rounded_hour_cos', 'ship_cluster',\n",
       "       'CI_HOUR'],\n",
       "      dtype='object')"
      ]
     },
     "execution_count": 3,
     "metadata": {},
     "output_type": "execute_result"
    }
   ],
   "source": [
    "train.columns"
   ]
  },
  {
   "cell_type": "markdown",
   "id": "8278dff9-de02-4af0-ac1f-6635d5351531",
   "metadata": {},
   "source": [
    "# Optuna"
   ]
  },
  {
   "cell_type": "code",
   "execution_count": 4,
   "id": "36f51656-854a-43bd-99b7-14c0e45a5359",
   "metadata": {},
   "outputs": [],
   "source": [
    "X = train.drop(columns='CI_HOUR')[[]]\n",
    "y = train['CI_HOUR']"
   ]
  },
  {
   "cell_type": "code",
   "execution_count": 5,
   "id": "103a6a1a-ce34-4bc0-8b72-991c364aabb2",
   "metadata": {},
   "outputs": [],
   "source": [
    "X_train, X_val, y_train, y_val = train_test_split(X, y, test_size=0.2, random_state=42)"
   ]
  },
  {
   "cell_type": "code",
   "execution_count": null,
   "id": "fae2909b-f05b-4ae7-b11c-d5fb5b879f1f",
   "metadata": {
    "tags": []
   },
   "outputs": [
    {
     "name": "stderr",
     "output_type": "stream",
     "text": [
      "\u001b[32m[I 2023-10-28 15:13:21,769]\u001b[0m A new study created in memory with name: no-name-6835b561-964a-4239-a07a-1dc281aaddf2\u001b[0m\n",
      "C:\\Users\\pc\\AppData\\Roaming\\Python\\Python39\\site-packages\\lightgbm\\sklearn.py:726: UserWarning: 'early_stopping_rounds' argument is deprecated and will be removed in a future release of LightGBM. Pass 'early_stopping()' callback via 'callbacks' argument instead.\n",
      "  _log_warning(\"'early_stopping_rounds' argument is deprecated and will be removed in a future release of LightGBM. \"\n",
      "C:\\Users\\pc\\AppData\\Roaming\\Python\\Python39\\site-packages\\lightgbm\\sklearn.py:736: UserWarning: 'verbose' argument is deprecated and will be removed in a future release of LightGBM. Pass 'log_evaluation()' callback via 'callbacks' argument instead.\n",
      "  _log_warning(\"'verbose' argument is deprecated and will be removed in a future release of LightGBM. \"\n",
      "\u001b[32m[I 2023-10-28 15:13:23,687]\u001b[0m Trial 0 finished with value: 80.81463777796647 and parameters: {'num_leaves': 17, 'colsample_bytree': 0.9852142919229748, 'reg_alpha': 0.7319939418114051, 'reg_lambda': 5.986584841970366, 'max_depth': 5, 'learning_rate': 8.62913219007185e-08, 'n_estimators': 268, 'min_child_samples': 88, 'subsample': 0.6938533737439828}. Best is trial 0 with value: 80.81463777796647.\u001b[0m\n",
      "C:\\Users\\pc\\AppData\\Roaming\\Python\\Python39\\site-packages\\lightgbm\\sklearn.py:726: UserWarning: 'early_stopping_rounds' argument is deprecated and will be removed in a future release of LightGBM. Pass 'early_stopping()' callback via 'callbacks' argument instead.\n",
      "  _log_warning(\"'early_stopping_rounds' argument is deprecated and will be removed in a future release of LightGBM. \"\n",
      "C:\\Users\\pc\\AppData\\Roaming\\Python\\Python39\\site-packages\\lightgbm\\sklearn.py:736: UserWarning: 'verbose' argument is deprecated and will be removed in a future release of LightGBM. Pass 'log_evaluation()' callback via 'callbacks' argument instead.\n",
      "  _log_warning(\"'verbose' argument is deprecated and will be removed in a future release of LightGBM. \"\n",
      "\u001b[32m[I 2023-10-28 15:13:27,713]\u001b[0m Trial 1 finished with value: 80.81354300571407 and parameters: {'num_leaves': 152, 'colsample_bytree': 0.7061753482887407, 'reg_alpha': 0.9699098521619943, 'reg_lambda': 8.324426408004218, 'max_depth': 5, 'learning_rate': 1.2329623163659816e-07, 'n_estimators': 632, 'min_child_samples': 34, 'subsample': 0.6469661675743767}. Best is trial 1 with value: 80.81354300571407.\u001b[0m\n",
      "C:\\Users\\pc\\AppData\\Roaming\\Python\\Python39\\site-packages\\lightgbm\\sklearn.py:726: UserWarning: 'early_stopping_rounds' argument is deprecated and will be removed in a future release of LightGBM. Pass 'early_stopping()' callback via 'callbacks' argument instead.\n",
      "  _log_warning(\"'early_stopping_rounds' argument is deprecated and will be removed in a future release of LightGBM. \"\n",
      "C:\\Users\\pc\\AppData\\Roaming\\Python\\Python39\\site-packages\\lightgbm\\sklearn.py:736: UserWarning: 'verbose' argument is deprecated and will be removed in a future release of LightGBM. Pass 'log_evaluation()' callback via 'callbacks' argument instead.\n",
      "  _log_warning(\"'verbose' argument is deprecated and will be removed in a future release of LightGBM. \"\n",
      "\u001b[32m[I 2023-10-28 15:13:37,147]\u001b[0m Trial 2 finished with value: 80.76257857856567 and parameters: {'num_leaves': 25, 'colsample_bytree': 0.7873687420594125, 'reg_alpha': 0.6118528947223795, 'reg_lambda': 1.3949386065204183, 'max_depth': 6, 'learning_rate': 1.5782327810795563e-06, 'n_estimators': 1423, 'min_child_samples': 80, 'subsample': 0.4803061836271737}. Best is trial 2 with value: 80.76257857856567.\u001b[0m\n",
      "C:\\Users\\pc\\AppData\\Roaming\\Python\\Python39\\site-packages\\lightgbm\\sklearn.py:726: UserWarning: 'early_stopping_rounds' argument is deprecated and will be removed in a future release of LightGBM. Pass 'early_stopping()' callback via 'callbacks' argument instead.\n",
      "  _log_warning(\"'early_stopping_rounds' argument is deprecated and will be removed in a future release of LightGBM. \"\n",
      "C:\\Users\\pc\\AppData\\Roaming\\Python\\Python39\\site-packages\\lightgbm\\sklearn.py:736: UserWarning: 'verbose' argument is deprecated and will be removed in a future release of LightGBM. Pass 'log_evaluation()' callback via 'callbacks' argument instead.\n",
      "  _log_warning(\"'verbose' argument is deprecated and will be removed in a future release of LightGBM. \"\n"
     ]
    }
   ],
   "source": [
    "# random sampler\n",
    "sampler = TPESampler(seed=42)\n",
    "\n",
    "# define function\n",
    "def objective(trial):\n",
    "\n",
    "    lgbm_param = {\n",
    "        'objective': 'regression',\n",
    "        'verbose': -1,\n",
    "        'metric': 'mae', \n",
    "        'num_leaves': trial.suggest_int('num_leaves', 2, 1024, step=1, log=True), \n",
    "        'colsample_bytree': trial.suggest_uniform('colsample_bytree', 0.7, 1.0),\n",
    "        'reg_alpha': trial.suggest_uniform('reg_alpha', 0.0, 1.0),\n",
    "        'reg_lambda': trial.suggest_uniform('reg_lambda', 0.0, 10.0),\n",
    "        'max_depth': trial.suggest_int('max_depth',3, 15),\n",
    "        'learning_rate': trial.suggest_loguniform(\"learning_rate\", 1e-8, 1e-2),\n",
    "        'n_estimators': trial.suggest_int('n_estimators', 100, 3000),\n",
    "        'min_child_samples': trial.suggest_int('min_child_samples', 5, 100),\n",
    "        'subsample': trial.suggest_loguniform('subsample', 0.4, 1),\n",
    "    }\n",
    "\n",
    "    # Generate model\n",
    "    model_lgbm = LGBMRegressor(**lgbm_param)\n",
    "    model_lgbm = model_lgbm.fit(X_train, y_train, eval_set=[(X_val, y_val)], \n",
    "                           verbose=0, early_stopping_rounds=25)\n",
    "                           \n",
    "    # * 평기 지표이다.\n",
    "    # 원하는 평가 지표에 따라 사용하면 된다.                         \n",
    "    MAE = mean_absolute_error(y_val, model_lgbm.predict(X_val))\n",
    "    return MAE\n",
    "\n",
    "optuna_lgbm = optuna.create_study(direction='minimize', sampler=sampler)\n",
    "\n",
    "# * n_trials의 경우 optuna를 몇번 실행하여 hyper parameter를 찾을 것인지를 정한다.\n",
    "# 50으로 설정해도 유의미한 값이 나온다.\n",
    "optuna_lgbm.optimize(objective, n_trials=100)"
   ]
  },
  {
   "cell_type": "code",
   "execution_count": null,
   "id": "c00348d4-60f5-412e-beea-b4383466478c",
   "metadata": {},
   "outputs": [],
   "source": [
    "lgbm_trial = optuna_lgbm.best_trial\n",
    "lgbm_trial_params = lgbm_trial.params\n",
    "print('Best Trial: score {},\\nparams {}'.format(lgbm_trial.value, lgbm_trial_params))"
   ]
  },
  {
   "cell_type": "markdown",
   "id": "39df9ee6-0aa3-4ea9-bf3e-1f5e66298aea",
   "metadata": {},
   "source": [
    "## K-Fold Model Fitting & Validation"
   ]
  },
  {
   "cell_type": "code",
   "execution_count": null,
   "id": "2ba309dd-129d-4c48-b92b-d63f1895f070",
   "metadata": {},
   "outputs": [],
   "source": [
    "X_train = train.drop(columns='CI_HOUR')\n",
    "y_train = train['CI_HOUR']\n",
    "X_train_reduced = X_train\n",
    "X_test_reduced = test"
   ]
  },
  {
   "cell_type": "code",
   "execution_count": 9,
   "id": "c0258d85-9f65-4608-bef6-3ffa2c655f45",
   "metadata": {},
   "outputs": [
    {
     "name": "stderr",
     "output_type": "stream",
     "text": [
      "Processing folds: 100%|██████████████████████████████████████████████████████████████████| 5/5 [07:51<00:00, 94.35s/it]"
     ]
    },
    {
     "name": "stdout",
     "output_type": "stream",
     "text": [
      "Validation : MAE scores for each fold: [52.646318010406326, 52.81864475556544, 52.5670176323291, 52.44402248562996, 53.27014935901645]\n",
      "Validation : MAE: 52.749230448589444\n"
     ]
    },
    {
     "name": "stderr",
     "output_type": "stream",
     "text": [
      "\n"
     ]
    }
   ],
   "source": [
    "lgbm = LGBMRegressor(**lgbm_trial_params)\n",
    "\n",
    "# 5-Fold 설정\n",
    "kf = KFold(n_splits=5, shuffle=True, random_state=42)\n",
    "\n",
    "# 각 fold의 모델로부터의 예측을 저장할 리스트와 MAE 점수 리스트\n",
    "ensemble_predictions = []\n",
    "scores = []\n",
    "\n",
    "for train_idx, val_idx in tqdm(kf.split(X_train_reduced), total=5, desc=\"Processing folds\"):\n",
    "    X_t, X_val = X_train_reduced.iloc[train_idx], X_train_reduced.iloc[val_idx]\n",
    "    y_t, y_val = y_train[train_idx], y_train[val_idx]\n",
    "    \n",
    "    # 두 모델 모두 학습\n",
    "    lgbm.fit(X_t, y_t)\n",
    "    \n",
    "    # 각 모델로부터 Validation set에 대한 예측을 평균내어 앙상블 예측 생성\n",
    "    val_pred = lgbm.predict(X_val)\n",
    "    \n",
    "    # Validation set에 대한 대회 평가 산식 계산 후 저장\n",
    "    scores.append(mean_absolute_error(y_val, val_pred))\n",
    "    \n",
    "    # test 데이터셋에 대한 예측 수행 후 저장\n",
    "    lgbm_pred = lgbm.predict(X_test_reduced)\n",
    "    lgbm_pred = np.where(lgbm_pred < 0, 0, lgbm_pred)\n",
    "    \n",
    "    ensemble_predictions.append(lgbm_pred)\n",
    "\n",
    "# K-fold 모든 예측의 평균을 계산하여 fold별 모델들의 앙상블 예측 생성\n",
    "final_predictions = np.mean(ensemble_predictions, axis=0)\n",
    "\n",
    "# 각 fold에서의 Validation Metric Score와 전체 평균 Validation Metric Score출력\n",
    "print(\"Validation : MAE scores for each fold:\", scores)\n",
    "print(\"Validation : MAE:\", np.mean(scores))"
   ]
  },
  {
   "cell_type": "markdown",
   "id": "1d34eb37-f25e-4988-b3c9-67a760839bca",
   "metadata": {},
   "source": [
    "## Submission"
   ]
  },
  {
   "cell_type": "code",
   "execution_count": 18,
   "id": "8d2cdf51-a4c4-4130-ba35-a8686372a355",
   "metadata": {},
   "outputs": [],
   "source": [
    "submit = pd.read_csv('../new_open/sample_submission.csv')\n",
    "submit['CI_HOUR'] = final_predictions"
   ]
  },
  {
   "cell_type": "code",
   "execution_count": 19,
   "id": "a7138b75-0bbd-4275-9b60-f82a900c9296",
   "metadata": {},
   "outputs": [
    {
     "data": {
      "text/html": [
       "<div>\n",
       "<style scoped>\n",
       "    .dataframe tbody tr th:only-of-type {\n",
       "        vertical-align: middle;\n",
       "    }\n",
       "\n",
       "    .dataframe tbody tr th {\n",
       "        vertical-align: top;\n",
       "    }\n",
       "\n",
       "    .dataframe thead th {\n",
       "        text-align: right;\n",
       "    }\n",
       "</style>\n",
       "<table border=\"1\" class=\"dataframe\">\n",
       "  <thead>\n",
       "    <tr style=\"text-align: right;\">\n",
       "      <th></th>\n",
       "      <th>SAMPLE_ID</th>\n",
       "      <th>CI_HOUR</th>\n",
       "    </tr>\n",
       "  </thead>\n",
       "  <tbody>\n",
       "    <tr>\n",
       "      <th>0</th>\n",
       "      <td>TEST_000000</td>\n",
       "      <td>103.720071</td>\n",
       "    </tr>\n",
       "    <tr>\n",
       "      <th>1</th>\n",
       "      <td>TEST_000001</td>\n",
       "      <td>24.068626</td>\n",
       "    </tr>\n",
       "    <tr>\n",
       "      <th>2</th>\n",
       "      <td>TEST_000002</td>\n",
       "      <td>42.500400</td>\n",
       "    </tr>\n",
       "    <tr>\n",
       "      <th>3</th>\n",
       "      <td>TEST_000003</td>\n",
       "      <td>129.251190</td>\n",
       "    </tr>\n",
       "    <tr>\n",
       "      <th>4</th>\n",
       "      <td>TEST_000004</td>\n",
       "      <td>0.000000</td>\n",
       "    </tr>\n",
       "    <tr>\n",
       "      <th>...</th>\n",
       "      <td>...</td>\n",
       "      <td>...</td>\n",
       "    </tr>\n",
       "    <tr>\n",
       "      <th>220486</th>\n",
       "      <td>TEST_220486</td>\n",
       "      <td>110.435805</td>\n",
       "    </tr>\n",
       "    <tr>\n",
       "      <th>220487</th>\n",
       "      <td>TEST_220487</td>\n",
       "      <td>102.844896</td>\n",
       "    </tr>\n",
       "    <tr>\n",
       "      <th>220488</th>\n",
       "      <td>TEST_220488</td>\n",
       "      <td>85.997301</td>\n",
       "    </tr>\n",
       "    <tr>\n",
       "      <th>220489</th>\n",
       "      <td>TEST_220489</td>\n",
       "      <td>0.000000</td>\n",
       "    </tr>\n",
       "    <tr>\n",
       "      <th>220490</th>\n",
       "      <td>TEST_220490</td>\n",
       "      <td>102.814113</td>\n",
       "    </tr>\n",
       "  </tbody>\n",
       "</table>\n",
       "<p>220491 rows × 2 columns</p>\n",
       "</div>"
      ],
      "text/plain": [
       "          SAMPLE_ID     CI_HOUR\n",
       "0       TEST_000000  103.720071\n",
       "1       TEST_000001   24.068626\n",
       "2       TEST_000002   42.500400\n",
       "3       TEST_000003  129.251190\n",
       "4       TEST_000004    0.000000\n",
       "...             ...         ...\n",
       "220486  TEST_220486  110.435805\n",
       "220487  TEST_220487  102.844896\n",
       "220488  TEST_220488   85.997301\n",
       "220489  TEST_220489    0.000000\n",
       "220490  TEST_220490  102.814113\n",
       "\n",
       "[220491 rows x 2 columns]"
      ]
     },
     "execution_count": 19,
     "metadata": {},
     "output_type": "execute_result"
    }
   ],
   "source": [
    "submit['DIST'] = test['DIST'].apply(lambda x: 0 if x==0 else 1)\n",
    "submit['CI_HOUR'] = submit['CI_HOUR']*submit['DIST']\n",
    "submit.drop(['DIST'],axis=1,inplace=True)\n",
    "submit"
   ]
  },
  {
   "cell_type": "code",
   "execution_count": 20,
   "id": "f738042c-0782-45f2-aefb-292e2845e8a8",
   "metadata": {},
   "outputs": [],
   "source": [
    "submit.to_csv(f'../Sub/lgbm_tune_1.csv', index=False)"
   ]
  },
  {
   "cell_type": "code",
   "execution_count": null,
   "id": "03a96618-c261-45bd-bd9e-3d1ecf567440",
   "metadata": {},
   "outputs": [],
   "source": []
  }
 ],
 "metadata": {
  "kernelspec": {
   "display_name": "HD",
   "language": "python",
   "name": "hd"
  },
  "language_info": {
   "codemirror_mode": {
    "name": "ipython",
    "version": 3
   },
   "file_extension": ".py",
   "mimetype": "text/x-python",
   "name": "python",
   "nbconvert_exporter": "python",
   "pygments_lexer": "ipython3",
   "version": "3.9.18"
  }
 },
 "nbformat": 4,
 "nbformat_minor": 5
}
