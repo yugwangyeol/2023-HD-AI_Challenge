{
 "cells": [
  {
   "cell_type": "markdown",
   "id": "d8a0d56a-0c1d-4f62-b9a9-ebfc9f34dd02",
   "metadata": {},
   "source": [
    "## Import & Data Load"
   ]
  },
  {
   "cell_type": "code",
   "execution_count": 1,
   "id": "92b0de75-94e3-4679-8972-63ccb78ace50",
   "metadata": {},
   "outputs": [],
   "source": [
    "import matplotlib.pyplot as plt\n",
    "import pandas as pd\n",
    "import numpy as np\n",
    "import lightgbm as lgb\n",
    "import bisect\n",
    "from tqdm import tqdm\n",
    "from sklearn.metrics import mean_absolute_error\n",
    "from sklearn.preprocessing import LabelEncoder\n",
    "from sklearn.model_selection import KFold"
   ]
  },
  {
   "cell_type": "code",
   "execution_count": 2,
   "id": "0798d09e-29fa-4387-86ff-b3dbc422b532",
   "metadata": {},
   "outputs": [],
   "source": [
    "train = pd.read_csv('../new_open/train_merge_new_fillna.csv')#.drop(columns=['SAMPLE_ID'])\n",
    "test = pd.read_csv('../new_open/test_merge_new_fillna.csv')#.drop(columns=['SAMPLE_ID'])"
   ]
  },
  {
   "cell_type": "code",
   "execution_count": 3,
   "id": "1408a423-9252-4ae4-885d-f9f200602224",
   "metadata": {},
   "outputs": [
    {
     "data": {
      "text/plain": [
       "Index(['ARI_CO', 'ARI_PO', 'SHIP_TYPE_CATEGORY', 'DIST', 'ID', 'BREADTH',\n",
       "       'BUILT', 'DEADWEIGHT', 'DEPTH', 'DRAUGHT', 'GT', 'LENGTH',\n",
       "       'SHIPMANAGER', 'FLAG', 'U_WIND', 'V_WIND', 'AIR_TEMPERATURE', 'BN',\n",
       "       'ATA_LT', 'PORT_SIZE', 'year', 'month', 'day', 'hour', 'minute',\n",
       "       'weekday', 'COS_ATA_LT', 'SIN_ATA_LT', '종가', 'rounded_hour',\n",
       "       'month_sin', 'month_cos', 'day_sin', 'day_cos', 'weekday_sin',\n",
       "       'weekday_cos', 'rounded_hour_sin', 'rounded_hour_cos', 'ship_cluster',\n",
       "       'CI_HOUR'],\n",
       "      dtype='object')"
      ]
     },
     "execution_count": 3,
     "metadata": {},
     "output_type": "execute_result"
    }
   ],
   "source": [
    "train.columns"
   ]
  },
  {
   "cell_type": "markdown",
   "id": "76731daa-4bee-43b3-a3e2-a7ffd084aa8b",
   "metadata": {},
   "source": [
    "# Feature Selection"
   ]
  },
  {
   "cell_type": "markdown",
   "id": "2e787b55-eb91-4ed0-a4c3-df8bcf906eae",
   "metadata": {},
   "source": [
    "| Feature           | Importance | Stddev   | p_value       | n   | p99_high   | p99_low    |\n",
    "|-------------------|------------|----------|---------------|-----|------------|------------|\n",
    "| DIST              | 33.718465  | 1.443961 | 4.025977e-07  | 5   | 36.691601  | 30.745328  |\n",
    "| AIR_TEMPERATURE   | 20.535054  | 2.346330 | 2.010168e-05  | 5   | 25.366181  | 15.703927  |\n",
    "| PORT_SIZE         | 13.383557  | 0.433339 | 1.317043e-07  | 5   | 14.275809  | 12.491306  |\n",
    "| month_sin         | 10.448891  | 0.869073 | 5.690231e-06  | 5   | 12.238324  | 8.659458   |\n",
    "| DEADWEIGHT        | 8.050769   | 0.303832 | 2.429625e-07  | 5   | 8.676363   | 7.425176   |\n",
    "| SHIP_TYPE_CATEGORY| 5.522400   | 0.605824 | 1.710481e-05  | 5   | 6.769799   | 4.275000   |\n",
    "| ARI_CO            | 5.450869   | 0.344041 | 1.894331e-06  | 5   | 6.159254   | 4.742484   |\n",
    "| GT                | 4.916247   | 0.041069 | 5.843499e-10  | 5   | 5.000810   | 4.831685   |\n",
    "| V_WIND            | 4.194757   | 0.513256 | 2.636758e-05  | 5   | 5.251558   | 3.137956   |\n",
    "| year              | 3.800577   | 0.532664 | 4.511340e-05  | 5   | 4.897339   | 2.703815   |\n",
    "| ARI_PO            | 3.758550   | 0.380011 | 1.237053e-05  | 5   | 4.540998   | 2.976102   |\n",
    "| ID                | 2.767858   | 0.188760 | 2.579624e-06  | 5   | 3.156517   | 2.379199   |\n",
    "| SHIPMANAGER       | 2.596882   | 0.189932 | 3.409397e-06  | 5   | 2.987955   | 2.205808   |\n",
    "| 종가               | 2.401468   | 0.198470 | 5.547651e-06  | 5   | 2.810121   | 1.992816   |\n",
    "| weekday_sin       | 2.209348   | 0.358705 | 8.053096e-05  | 5   | 2.947927   | 1.470769   |\n",
    "| weekday           | 1.803524   | 0.146227 | 5.140521e-06  | 5   | 2.104608   | 1.502441   |\n",
    "| LENGTH            | 1.618994   | 0.323677 | 1.819071e-04  | 5   | 2.285450   | 0.952539   |\n",
    "| BN                | 1.602821   | 0.270544 | 9.381494e-05  | 5   | 2.159875   | 1.045767   |\n",
    "| weekday_cos       | 1.493677   | 0.222006 | 5.687632e-05  | 5   | 1.950791   | 1.036563   |\n",
    "| FLAG              | 1.464941   | 0.245221 | 9.079881e-05  | 5   | 1.969855   | 0.960027   |\n",
    "| BUILT             | 1.335723   | 0.161547 | 2.518170e-05  | 5   | 1.668350   | 1.003096   |\n",
    "| month_cos         | 1.264094   | 0.193196 | 6.348254e-05  | 5   | 1.661888   | 0.866300   |\n",
    "| minute            | 0.974526   | 0.103713 | 1.516398e-05  | 5   | 1.188072   | 0.760979   |\n",
    "| U_WIND            | 0.950229   | 0.082772 | 6.839444e-06  | 5   | 1.120658   | 0.779801   |\n",
    "| DRAUGHT           | 0.807782   | 0.093130 | 2.083045e-05  | 5   | 0.999537   | 0.616027   |\n",
    "| BREADTH           | 0.795087   | 0.179288 | 2.902996e-04  | 5   | 1.164244   | 0.425929   |\n",
    "| DEPTH             | 0.769400   | 0.217530 | 6.913903e-04  | 5   | 1.217297   | 0.321503   |\n",
    "| ship_cluster      | 0.648050   | 0.188175 | 7.650426e-04  | 5   | 1.035506   | 0.260595   |\n",
    "| day               | 0.640091   | 0.193719 | 8.946352e-04  | 5   | 1.038962   | 0.241220   |\n",
    "| COS_ATA_LT        | 0.583585   | 0.070848 | 2.556124e-05  | 5   | 0.729461   | 0.437708   |\n",
    "| month             | 0.568937   | 0.249898 | 3.513745e-03  | 5   | 1.083481   | 0.054394   |\n",
    "| day_cos           | 0.503841   | 0.193575 | 2.169824e-03  | 5   | 0.902414   | 0.105267   |\n",
    "| SIN_ATA_LT        | 0.487606   | 0.109514 | 2.858391e-04  | 5   | 0.713096   | 0.262115   |\n",
    "| hour              | 0.484163   | 0.132960 | 6.189294e-04  | 5   | 0.757929   | 0.210397   |\n",
    "| day_sin           | 0.477267   | 0.133768 | 6.689107e-04  | 5   | 0.752696   | 0.201837   |\n",
    "| rounded_hour_cos  | 0.427113   | 0.218824 | 6.009905e-03  | 5   | 0.877674   | -0.023448  |\n",
    "| rounded_hour_sin  | 0.370473   | 0.151834 | 2.742366e-03  | 5   | 0.683101   | 0.057846   |\n",
    "| rounded_hour      | 0.370026   | 0.030097 | 5.206102e-06  | 5   | 0.431996   | 0.308056   |\n",
    "| ATA_LT            | 0.331854   | 0.185703 | 8.092656e-03  | 5   | 0.714219   | -0.050511  |"
   ]
  },
  {
   "cell_type": "code",
   "execution_count": 25,
   "id": "9152e3a9-88cf-41af-968f-dad96d933d1c",
   "metadata": {},
   "outputs": [],
   "source": [
    "importance_features = ['AIR_TEMPERATURE','V_WIND','U_WIND','BN']\n",
    "#importance_features = ['DIST','PORT_SIZE','month','BDI_ADJ','DEADWEIGHT']\n",
    "\n",
    "X_train = train.drop(columns='CI_HOUR')\n",
    "y_train = train['CI_HOUR']\n",
    "X_train_reduced = X_train[importance_features]\n",
    "X_test_reduced = test[importance_features]\n",
    "#X_train_reduced = X_train\n",
    "#X_test_reduced = test"
   ]
  },
  {
   "cell_type": "markdown",
   "id": "39df9ee6-0aa3-4ea9-bf3e-1f5e66298aea",
   "metadata": {},
   "source": [
    "## K-Fold Model Fitting & Validation"
   ]
  },
  {
   "cell_type": "code",
   "execution_count": 26,
   "id": "c0258d85-9f65-4608-bef6-3ffa2c655f45",
   "metadata": {},
   "outputs": [
    {
     "name": "stderr",
     "output_type": "stream",
     "text": [
      "Processing folds: 100%|██████████████████████████████████████████████████████████████████| 5/5 [00:15<00:00,  3.16s/it]"
     ]
    },
    {
     "name": "stdout",
     "output_type": "stream",
     "text": [
      "Validation : MAE scores for each fold: [79.29071477870535, 79.20956991459803, 79.24291493685928, 78.50947280697433, 79.69925750019209]\n",
      "Validation : MAE: 79.19038598746582\n"
     ]
    },
    {
     "name": "stderr",
     "output_type": "stream",
     "text": [
      "\n"
     ]
    }
   ],
   "source": [
    "lgbm = lgb.LGBMRegressor(n_estimators=1000)\n",
    "\n",
    "# 5-Fold 설정\n",
    "kf = KFold(n_splits=5, shuffle=True, random_state=42)\n",
    "\n",
    "# 각 fold의 모델로부터의 예측을 저장할 리스트와 MAE 점수 리스트\n",
    "ensemble_predictions = []\n",
    "scores = []\n",
    "\n",
    "for train_idx, val_idx in tqdm(kf.split(X_train_reduced), total=5, desc=\"Processing folds\"):\n",
    "    X_t, X_val = X_train_reduced.iloc[train_idx], X_train_reduced.iloc[val_idx]\n",
    "    y_t, y_val = y_train[train_idx], y_train[val_idx]\n",
    "    \n",
    "    # 두 모델 모두 학습\n",
    "    lgbm.fit(X_t, y_t)\n",
    "    \n",
    "    # 각 모델로부터 Validation set에 대한 예측을 평균내어 앙상블 예측 생성\n",
    "    val_pred = lgbm.predict(X_val)\n",
    "    \n",
    "    # Validation set에 대한 대회 평가 산식 계산 후 저장\n",
    "    scores.append(mean_absolute_error(y_val, val_pred))\n",
    "    \n",
    "    # test 데이터셋에 대한 예측 수행 후 저장\n",
    "    lgbm_pred = lgbm.predict(X_test_reduced)\n",
    "    lgbm_pred = np.where(lgbm_pred < 0, 0, lgbm_pred)\n",
    "    \n",
    "    ensemble_predictions.append(lgbm_pred)\n",
    "\n",
    "# K-fold 모든 예측의 평균을 계산하여 fold별 모델들의 앙상블 예측 생성\n",
    "final_predictions = np.mean(ensemble_predictions, axis=0)\n",
    "\n",
    "# 각 fold에서의 Validation Metric Score와 전체 평균 Validation Metric Score출력\n",
    "print(\"Validation : MAE scores for each fold:\", scores)\n",
    "print(\"Validation : MAE:\", np.mean(scores))"
   ]
  },
  {
   "cell_type": "markdown",
   "id": "1d34eb37-f25e-4988-b3c9-67a760839bca",
   "metadata": {},
   "source": [
    "## Submission"
   ]
  },
  {
   "cell_type": "code",
   "execution_count": 6,
   "id": "8d2cdf51-a4c4-4130-ba35-a8686372a355",
   "metadata": {},
   "outputs": [],
   "source": [
    "submit = pd.read_csv('../new_open/sample_submission.csv')\n",
    "submit['CI_HOUR'] = final_predictions"
   ]
  },
  {
   "cell_type": "code",
   "execution_count": 7,
   "id": "a7138b75-0bbd-4275-9b60-f82a900c9296",
   "metadata": {},
   "outputs": [
    {
     "data": {
      "text/html": [
       "<div>\n",
       "<style scoped>\n",
       "    .dataframe tbody tr th:only-of-type {\n",
       "        vertical-align: middle;\n",
       "    }\n",
       "\n",
       "    .dataframe tbody tr th {\n",
       "        vertical-align: top;\n",
       "    }\n",
       "\n",
       "    .dataframe thead th {\n",
       "        text-align: right;\n",
       "    }\n",
       "</style>\n",
       "<table border=\"1\" class=\"dataframe\">\n",
       "  <thead>\n",
       "    <tr style=\"text-align: right;\">\n",
       "      <th></th>\n",
       "      <th>SAMPLE_ID</th>\n",
       "      <th>CI_HOUR</th>\n",
       "    </tr>\n",
       "  </thead>\n",
       "  <tbody>\n",
       "    <tr>\n",
       "      <th>0</th>\n",
       "      <td>TEST_000000</td>\n",
       "      <td>167.892796</td>\n",
       "    </tr>\n",
       "    <tr>\n",
       "      <th>1</th>\n",
       "      <td>TEST_000001</td>\n",
       "      <td>75.583427</td>\n",
       "    </tr>\n",
       "    <tr>\n",
       "      <th>2</th>\n",
       "      <td>TEST_000002</td>\n",
       "      <td>36.558741</td>\n",
       "    </tr>\n",
       "    <tr>\n",
       "      <th>3</th>\n",
       "      <td>TEST_000003</td>\n",
       "      <td>138.545895</td>\n",
       "    </tr>\n",
       "    <tr>\n",
       "      <th>4</th>\n",
       "      <td>TEST_000004</td>\n",
       "      <td>0.000000</td>\n",
       "    </tr>\n",
       "    <tr>\n",
       "      <th>...</th>\n",
       "      <td>...</td>\n",
       "      <td>...</td>\n",
       "    </tr>\n",
       "    <tr>\n",
       "      <th>220486</th>\n",
       "      <td>TEST_220486</td>\n",
       "      <td>125.409036</td>\n",
       "    </tr>\n",
       "    <tr>\n",
       "      <th>220487</th>\n",
       "      <td>TEST_220487</td>\n",
       "      <td>139.136735</td>\n",
       "    </tr>\n",
       "    <tr>\n",
       "      <th>220488</th>\n",
       "      <td>TEST_220488</td>\n",
       "      <td>68.008151</td>\n",
       "    </tr>\n",
       "    <tr>\n",
       "      <th>220489</th>\n",
       "      <td>TEST_220489</td>\n",
       "      <td>0.000000</td>\n",
       "    </tr>\n",
       "    <tr>\n",
       "      <th>220490</th>\n",
       "      <td>TEST_220490</td>\n",
       "      <td>48.051645</td>\n",
       "    </tr>\n",
       "  </tbody>\n",
       "</table>\n",
       "<p>220491 rows × 2 columns</p>\n",
       "</div>"
      ],
      "text/plain": [
       "          SAMPLE_ID     CI_HOUR\n",
       "0       TEST_000000  167.892796\n",
       "1       TEST_000001   75.583427\n",
       "2       TEST_000002   36.558741\n",
       "3       TEST_000003  138.545895\n",
       "4       TEST_000004    0.000000\n",
       "...             ...         ...\n",
       "220486  TEST_220486  125.409036\n",
       "220487  TEST_220487  139.136735\n",
       "220488  TEST_220488   68.008151\n",
       "220489  TEST_220489    0.000000\n",
       "220490  TEST_220490   48.051645\n",
       "\n",
       "[220491 rows x 2 columns]"
      ]
     },
     "execution_count": 7,
     "metadata": {},
     "output_type": "execute_result"
    }
   ],
   "source": [
    "submit['DIST'] = test['DIST'].apply(lambda x: 0 if x==0 else 1)\n",
    "submit['CI_HOUR'] = submit['CI_HOUR']*submit['DIST']\n",
    "submit.drop(['DIST'],axis=1,inplace=True)\n",
    "submit"
   ]
  },
  {
   "cell_type": "code",
   "execution_count": 8,
   "id": "f738042c-0782-45f2-aefb-292e2845e8a8",
   "metadata": {},
   "outputs": [],
   "source": [
    "submit.to_csv(f'../Sub/lgbm_2.csv', index=False)"
   ]
  },
  {
   "cell_type": "code",
   "execution_count": null,
   "id": "03a96618-c261-45bd-bd9e-3d1ecf567440",
   "metadata": {},
   "outputs": [],
   "source": []
  }
 ],
 "metadata": {
  "kernelspec": {
   "display_name": "HD",
   "language": "python",
   "name": "hd"
  },
  "language_info": {
   "codemirror_mode": {
    "name": "ipython",
    "version": 3
   },
   "file_extension": ".py",
   "mimetype": "text/x-python",
   "name": "python",
   "nbconvert_exporter": "python",
   "pygments_lexer": "ipython3",
   "version": "3.9.18"
  }
 },
 "nbformat": 4,
 "nbformat_minor": 5
}
